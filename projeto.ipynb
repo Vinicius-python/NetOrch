%matplotlib inline
import matplotlib.pyplot as plt
import pandas as pd
import numpy as np

df =  pd.read_csv('/home/vinicius/medal2.csv', sep=",")

df

#Grafico 1
df.plot(x='country',y='gold_medal')


#Grafico 2
df.plot(kind='bar', x='country',y='gold_medal')

#Grafico 3
###Este comando fuciona e plota o grafico com duas linhas
ax = plt.gca()
df.plot(kind='line',x='country',y='gold_medal', color='gold', ax=ax)
df.plot(kind='line',x='country',y='silver_medal', color='silver', ax=ax)

#### Assim ele nao funciona
x = plt.gca()
df.plot(kind='line',x='country',y='gold_medal', color='gold', ax=ax)
df.plot(kind='line',x='country',y='silver_medal', color='silver', ax=ax)
df.plot(kind='line',x='country',y='bronze_medal', color='red', ax=ax)

